{
  "nbformat": 4,
  "nbformat_minor": 0,
  "metadata": {
    "colab": {
      "provenance": []
    },
    "kernelspec": {
      "name": "python3",
      "display_name": "Python 3"
    },
    "language_info": {
      "name": "python"
    }
  },
  "cells": [
    {
      "cell_type": "markdown",
      "source": [
        "#**PYTHON BASICS TERMS**\n",
        "\n",
        "\n",
        "*   Syntax\n",
        "*   Comments\n",
        "\n"
      ],
      "metadata": {
        "id": "YmFI_TlhvD-D"
      }
    },
    {
      "cell_type": "code",
      "source": [
        "name = 'HIMANSHU' #this is the name of the person"
      ],
      "metadata": {
        "id": "7gvvgJ6FvcxM"
      },
      "execution_count": null,
      "outputs": []
    },
    {
      "cell_type": "code",
      "source": [
        "print(name)"
      ],
      "metadata": {
        "colab": {
          "base_uri": "https://localhost:8080/"
        },
        "id": "pkJxRGvLve-Z",
        "outputId": "3e92075a-669e-4dff-d044-99ca3e431f85"
      },
      "execution_count": null,
      "outputs": [
        {
          "output_type": "stream",
          "name": "stdout",
          "text": [
            "HIMANSHU\n"
          ]
        }
      ]
    },
    {
      "cell_type": "code",
      "source": [],
      "metadata": {
        "id": "Vr2ojrrZvfOu"
      },
      "execution_count": null,
      "outputs": []
    },
    {
      "cell_type": "markdown",
      "source": [
        "**PYTHON DATATYPE, Type Casting and Variables**\n",
        "\n",
        "\n",
        "*   Text type: str\n",
        "*   numeric type: int, float\n",
        "*   Sequence Type: list, tuple, range\n",
        "*   Mapping type: dict\n",
        "*   Set type: set\n",
        "*   Booleaan type: bool\n",
        "\n"
      ],
      "metadata": {
        "id": "lBtD04h6wb91"
      }
    },
    {
      "cell_type": "code",
      "source": [
        "name ='Rohit'\n",
        "age = 25\n",
        "height = 12.5"
      ],
      "metadata": {
        "id": "1XBrYuqzxRkD"
      },
      "execution_count": null,
      "outputs": []
    },
    {
      "cell_type": "code",
      "source": [
        "\n",
        "type(age)"
      ],
      "metadata": {
        "colab": {
          "base_uri": "https://localhost:8080/"
        },
        "id": "g4KmeGXzxTb-",
        "outputId": "87dd205c-c53d-4c4b-8868-f9e2b52a5059"
      },
      "execution_count": null,
      "outputs": [
        {
          "output_type": "execute_result",
          "data": {
            "text/plain": [
              "int"
            ]
          },
          "metadata": {},
          "execution_count": 16
        }
      ]
    },
    {
      "cell_type": "code",
      "source": [
        "type(name)"
      ],
      "metadata": {
        "colab": {
          "base_uri": "https://localhost:8080/"
        },
        "id": "SGYBAuO2xuoK",
        "outputId": "1035fd62-6201-4226-f30f-c14c02554c46"
      },
      "execution_count": null,
      "outputs": [
        {
          "output_type": "execute_result",
          "data": {
            "text/plain": [
              "str"
            ]
          },
          "metadata": {},
          "execution_count": 17
        }
      ]
    },
    {
      "cell_type": "code",
      "source": [
        "type(height)"
      ],
      "metadata": {
        "colab": {
          "base_uri": "https://localhost:8080/"
        },
        "id": "wbJGqn9ax8zZ",
        "outputId": "f5603e00-14a5-4fa1-b7c4-d711be74c7cd"
      },
      "execution_count": null,
      "outputs": [
        {
          "output_type": "execute_result",
          "data": {
            "text/plain": [
              "float"
            ]
          },
          "metadata": {},
          "execution_count": 18
        }
      ]
    },
    {
      "cell_type": "code",
      "source": [],
      "metadata": {
        "id": "pK6HpekyyFLl"
      },
      "execution_count": null,
      "outputs": []
    },
    {
      "cell_type": "markdown",
      "source": [
        "**Python Operators**\n",
        "\n",
        "\n",
        "\n",
        "\n",
        "*   Arithmatic Operators(+,-,*,/,%,)\n",
        "*   Assignment Operators(=,+=,-=,*=,/=,%=,)\n",
        "*   Comparison Operators(==,!=,<,>,<=,>=)\n",
        "*   logical Operators(and,or,not)\n",
        "*   Membership Operators(in,not in)\n",
        "\n",
        "\n",
        "\n"
      ],
      "metadata": {
        "id": "BIRAw_NyyQ8q"
      }
    },
    {
      "cell_type": "code",
      "source": [
        "#Arithmatic\n",
        "x=10\n",
        "y=20\n",
        "print(x+y,x-y,x*y,y/x,x%y,y**x)"
      ],
      "metadata": {
        "colab": {
          "base_uri": "https://localhost:8080/"
        },
        "id": "gpLOvu7oyaW7",
        "outputId": "59c0063c-5252-4454-a2ce-f1dbd68b2ec5"
      },
      "execution_count": null,
      "outputs": [
        {
          "output_type": "stream",
          "name": "stdout",
          "text": [
            "30 -10 200 2.0 10 10240000000000\n"
          ]
        }
      ]
    },
    {
      "cell_type": "code",
      "source": [
        "#Assignment\n",
        "x = 10\n",
        "print(x)\n",
        "x += 10\n",
        "print(x)\n",
        "x -= 5\n",
        "print(x)\n",
        "x **= 5\n",
        "print(x)\n",
        "x %= 10\n",
        "print(x)\n"
      ],
      "metadata": {
        "colab": {
          "base_uri": "https://localhost:8080/"
        },
        "id": "mAGtDQ29yaU5",
        "outputId": "9d08db00-5aa8-4d1c-ed7a-06cc3d938f7a"
      },
      "execution_count": null,
      "outputs": [
        {
          "output_type": "stream",
          "name": "stdout",
          "text": [
            "10\n",
            "20\n",
            "15\n",
            "759375\n",
            "5\n"
          ]
        }
      ]
    },
    {
      "cell_type": "code",
      "source": [
        "#comparison operator\n",
        "x=100\n",
        "y=100\n",
        "if(x == y):\n",
        "  print(\"The both numbers are equal\")\n",
        "z=200\n",
        "if(x != z):\n",
        "  print(\"The both numbers are not equal\")"
      ],
      "metadata": {
        "colab": {
          "base_uri": "https://localhost:8080/"
        },
        "id": "5_Kz8JdJ1_It",
        "outputId": "5ce30cfe-6809-47d8-e877-d0c7533a5498"
      },
      "execution_count": null,
      "outputs": [
        {
          "output_type": "stream",
          "name": "stdout",
          "text": [
            "The both numbers are equal\n",
            "The both numbers are not equal\n"
          ]
        }
      ]
    },
    {
      "cell_type": "code",
      "source": [
        "#logical Operator\n",
        "x=25\n",
        "y=30\n",
        "z=60\n",
        "if(2*y==z and z!=x):\n",
        "  print(\"The both the conditions satisfied so the answer get executed\")\n",
        "if(2*y==z or z==x):\n",
        "  print(\"Any one condition satisfied\")\n",
        "if(a == True):\n",
        "  print(not a)"
      ],
      "metadata": {
        "colab": {
          "base_uri": "https://localhost:8080/"
        },
        "id": "IsmmPLfV3aBC",
        "outputId": "adfb3b45-b72d-4936-ad6e-5a4cd160e628"
      },
      "execution_count": null,
      "outputs": [
        {
          "output_type": "stream",
          "name": "stdout",
          "text": [
            "The both the conditions satisfied so the answer get executed\n",
            "Any one condition satisfied\n",
            "False\n"
          ]
        }
      ]
    },
    {
      "cell_type": "code",
      "source": [
        "#Membership operator\n",
        "a = [1,2,3,4] #list\n",
        "number=10\n",
        "if(1 in a):\n",
        "  print(\"number Present\",1)\n",
        "else:\n",
        "  print(\"not Present\",1)\n",
        "if(number in a):\n",
        "  print(\"Present\",number)\n",
        "else:\n",
        "  print(\"not present\",number)\n",
        "if(number not in a):\n",
        "  print(\"not present\",number)"
      ],
      "metadata": {
        "colab": {
          "base_uri": "https://localhost:8080/"
        },
        "id": "GsXhZvQt4Niq",
        "outputId": "2c2b4dd2-a02d-48b4-fd55-fbe06390901d"
      },
      "execution_count": null,
      "outputs": [
        {
          "output_type": "stream",
          "name": "stdout",
          "text": [
            "number Present 1\n",
            "not present 10\n",
            "not present 10\n"
          ]
        }
      ]
    },
    {
      "cell_type": "code",
      "source": [],
      "metadata": {
        "id": "l-CEqekb6iEW"
      },
      "execution_count": null,
      "outputs": []
    },
    {
      "cell_type": "markdown",
      "source": [
        "#**Loops**\n",
        "*  For Loop\n",
        "*  It is used for iterating over a sequence (that may be either a list, a tuple, a dictionary, a set, or a string)\n",
        "*   use break and continue keyword\n"
      ],
      "metadata": {
        "id": "OKbzRm1mq4ly"
      }
    },
    {
      "cell_type": "code",
      "source": [
        "fruits = (\"Apple\",\"Mango\",\"Banana\",\"cherry\",\"pineapple\")"
      ],
      "metadata": {
        "id": "dfZohZ0wr55-"
      },
      "execution_count": null,
      "outputs": []
    },
    {
      "cell_type": "code",
      "source": [
        "type(fruits)"
      ],
      "metadata": {
        "colab": {
          "base_uri": "https://localhost:8080/"
        },
        "id": "P1ZFYd--sLmo",
        "outputId": "3f97c43f-1975-4dee-84b3-fe87dddae2e8"
      },
      "execution_count": null,
      "outputs": [
        {
          "output_type": "execute_result",
          "data": {
            "text/plain": [
              "tuple"
            ]
          },
          "metadata": {},
          "execution_count": 2
        }
      ]
    },
    {
      "cell_type": "code",
      "source": [
        "for i in fruits:  # we may or may not had to define end point\n",
        "  print(i)"
      ],
      "metadata": {
        "colab": {
          "base_uri": "https://localhost:8080/"
        },
        "id": "UQUOpyBZsPLr",
        "outputId": "b78b1dca-bbcb-49ac-9433-b9a385af7170"
      },
      "execution_count": null,
      "outputs": [
        {
          "output_type": "stream",
          "name": "stdout",
          "text": [
            "Apple\n",
            "Mango\n",
            "Banana\n",
            "cherry\n",
            "pineapple\n"
          ]
        }
      ]
    },
    {
      "cell_type": "code",
      "source": [
        "for i in range(10):\n",
        "  print(i)"
      ],
      "metadata": {
        "colab": {
          "base_uri": "https://localhost:8080/"
        },
        "id": "-OLJqFP6sfPX",
        "outputId": "e20b1fa3-61c5-44e3-fecb-cac340ffa4a3"
      },
      "execution_count": null,
      "outputs": [
        {
          "output_type": "stream",
          "name": "stdout",
          "text": [
            "0\n",
            "1\n",
            "2\n",
            "3\n",
            "4\n",
            "5\n",
            "6\n",
            "7\n",
            "8\n",
            "9\n"
          ]
        }
      ]
    },
    {
      "cell_type": "code",
      "source": [],
      "metadata": {
        "id": "G9nqoWqQszQz"
      },
      "execution_count": null,
      "outputs": []
    },
    {
      "cell_type": "markdown",
      "source": [
        "#**While loop**\n",
        "*  With the while loop we can execute a set of statements as a condition is true\n",
        "*  Using Break & continue Keyword"
      ],
      "metadata": {
        "id": "hQWbDuP4twtI"
      }
    },
    {
      "cell_type": "code",
      "source": [
        "num =1       # Difference is need to define the end points\n",
        "while num<5:\n",
        "  print(num)\n",
        "  num=num+1     # need to provide increment nd decrement also"
      ],
      "metadata": {
        "colab": {
          "base_uri": "https://localhost:8080/"
        },
        "id": "xko4-eawuLol",
        "outputId": "e4b69c80-aad3-4605-b8ba-40313f2a0df0"
      },
      "execution_count": null,
      "outputs": [
        {
          "output_type": "stream",
          "name": "stdout",
          "text": [
            "1\n",
            "2\n",
            "3\n",
            "4\n"
          ]
        }
      ]
    },
    {
      "cell_type": "code",
      "source": [],
      "metadata": {
        "id": "4lAaxNiNuZVq"
      },
      "execution_count": null,
      "outputs": []
    },
    {
      "cell_type": "code",
      "source": [],
      "metadata": {
        "id": "shT0wap5vYGo"
      },
      "execution_count": null,
      "outputs": []
    },
    {
      "cell_type": "markdown",
      "source": [
        "#**Conditional statements**\n",
        "*  if\n",
        "*  elif\n",
        "*  else"
      ],
      "metadata": {
        "id": "lnnhVq0kvY2C"
      }
    },
    {
      "cell_type": "code",
      "source": [
        "marks=int(input(\"Student Marks-->\"))\n",
        "if (marks<35):\n",
        "  print(\"Fail\")\n",
        "elif(marks>=35 and marks<=70):\n",
        "  print(\"Average\")\n",
        "else:\n",
        "  print(\"Excelent\")"
      ],
      "metadata": {
        "colab": {
          "base_uri": "https://localhost:8080/"
        },
        "id": "TDBFY4Msvnbw",
        "outputId": "5f6c752f-ce80-43e3-cd83-10ca87a82309"
      },
      "execution_count": null,
      "outputs": [
        {
          "output_type": "stream",
          "name": "stdout",
          "text": [
            "Student Marks-->56\n",
            "Average\n"
          ]
        }
      ]
    },
    {
      "cell_type": "code",
      "source": [
        "marks=59\n",
        "if(marks>35):\n",
        "  print(\"Pass\")\n",
        "  if(marks>65):\n",
        "    print(\"Pass with distinction\")\n",
        "  else:\n",
        "    print(\"Pass but without distinction\")\n",
        "else:\n",
        "  print(\"Fail\")"
      ],
      "metadata": {
        "colab": {
          "base_uri": "https://localhost:8080/"
        },
        "id": "BivVLyo6waj9",
        "outputId": "09321a67-ad17-47ad-8e10-e92fae44d280"
      },
      "execution_count": null,
      "outputs": [
        {
          "output_type": "stream",
          "name": "stdout",
          "text": [
            "Pass\n",
            "Pass but without distinction\n"
          ]
        }
      ]
    },
    {
      "cell_type": "code",
      "source": [],
      "metadata": {
        "id": "SPBdAjnB-z5A"
      },
      "execution_count": null,
      "outputs": []
    },
    {
      "cell_type": "code",
      "source": [],
      "metadata": {
        "id": "sALNNG9h-5Cn"
      },
      "execution_count": null,
      "outputs": []
    },
    {
      "cell_type": "markdown",
      "source": [
        "#**Strings & Its Methods**\n",
        "*  All string methods return new values. They donot change the original string(Immutable).\n",
        "# Methods\n",
        "*  isalpha(), isalnum(), index(), find(), count(), capitalize(), isdigit(),\n",
        "islower(),isnumeric()\n",
        "*  endswith(), upper(), title(), swapcase(), strip(), startswith(), split(), join(), lower(), replace()"
      ],
      "metadata": {
        "id": "0hU0Ho8l-5dd"
      }
    },
    {
      "cell_type": "code",
      "source": [
        "txt1=\"hello, 'and welcome to our course'.\"\n",
        "txt2='Hello'       # difference We cann't use the ()'') notations in the txt2 string\n",
        "a = txt1.capitalize()\n",
        "print(a)"
      ],
      "metadata": {
        "colab": {
          "base_uri": "https://localhost:8080/"
        },
        "id": "uwhH_Z4WAeXE",
        "outputId": "66a0751e-39dc-4451-ebe4-81583649b666"
      },
      "execution_count": null,
      "outputs": [
        {
          "output_type": "stream",
          "name": "stdout",
          "text": [
            "Hello, 'and welcome to our course'.\n"
          ]
        }
      ]
    },
    {
      "cell_type": "code",
      "source": [
        "txt=\"I am from India and born in Maharashtra, India\"\n",
        "b=txt.count(\"India\")\n",
        "print(b)"
      ],
      "metadata": {
        "colab": {
          "base_uri": "https://localhost:8080/"
        },
        "id": "SezTc23OBLUl",
        "outputId": "928bf012-78f3-4e17-b7a6-b276b2d2c480"
      },
      "execution_count": null,
      "outputs": [
        {
          "output_type": "stream",
          "name": "stdout",
          "text": [
            "2\n"
          ]
        }
      ]
    },
    {
      "cell_type": "code",
      "source": [
        "txt =\"I love apples, apple are my favorite fruit\" #banana we don't have in the string.\n",
        "c=txt.find(\"banana\")\n",
        "print(c)\n",
        "txt =\"I love apples, apple are my favorite fruit\" #apples  we have in the string.\n",
        "d=txt.find(\"apples\")\n",
        "print(d)"
      ],
      "metadata": {
        "colab": {
          "base_uri": "https://localhost:8080/"
        },
        "id": "8ln4WvD1CRQi",
        "outputId": "76a9b74f-06c1-4bde-8be6-7bf367443dbf"
      },
      "execution_count": null,
      "outputs": [
        {
          "output_type": "stream",
          "name": "stdout",
          "text": [
            "-1\n",
            "7\n"
          ]
        }
      ]
    },
    {
      "cell_type": "code",
      "source": [
        "try:                         #for errors(basically).\n",
        "  e = txt.index(\"banana\") #difference between find and index because we don't have banana in the string.\n",
        "  print(e)\n",
        "except:\n",
        "  f = txt.index(\"apples\") # because we don't have banana in the string.\n",
        "  print(f)"
      ],
      "metadata": {
        "colab": {
          "base_uri": "https://localhost:8080/"
        },
        "id": "Abd5IdqwCrF2",
        "outputId": "d9a90339-596c-4dc0-954d-1a801586b76e"
      },
      "execution_count": null,
      "outputs": [
        {
          "output_type": "stream",
          "name": "stdout",
          "text": [
            "7\n"
          ]
        }
      ]
    },
    {
      "cell_type": "code",
      "source": [],
      "metadata": {
        "id": "coTyTxmuDCmA"
      },
      "execution_count": null,
      "outputs": []
    },
    {
      "cell_type": "code",
      "source": [
        "txt=\"company12\"  # it says alphanumeric.\n",
        "name=txt.isalnum()\n",
        "print(name)"
      ],
      "metadata": {
        "colab": {
          "base_uri": "https://localhost:8080/"
        },
        "id": "WnSoY80pE5_t",
        "outputId": "96a4ac96-1596-46b3-c000-4bd6739363bf"
      },
      "execution_count": null,
      "outputs": [
        {
          "output_type": "stream",
          "name": "stdout",
          "text": [
            "True\n"
          ]
        }
      ]
    },
    {
      "cell_type": "code",
      "source": [
        "txt=\"company\"\n",
        "name=txt.isalpha()\n",
        "print(name)"
      ],
      "metadata": {
        "colab": {
          "base_uri": "https://localhost:8080/"
        },
        "id": "XbTsadprFHA6",
        "outputId": "70e5a366-55b6-43a7-d492-688540c4dfc9"
      },
      "execution_count": null,
      "outputs": [
        {
          "output_type": "stream",
          "name": "stdout",
          "text": [
            "True\n"
          ]
        }
      ]
    },
    {
      "cell_type": "code",
      "source": [
        "txt=\"20000399\"\n",
        "name=txt.isdigit()\n",
        "print(name)"
      ],
      "metadata": {
        "colab": {
          "base_uri": "https://localhost:8080/"
        },
        "id": "rbs7TbH2GDg4",
        "outputId": "8005d280-a6aa-4ca2-9efb-13cc07f4a4ce"
      },
      "execution_count": null,
      "outputs": [
        {
          "output_type": "stream",
          "name": "stdout",
          "text": [
            "True\n"
          ]
        }
      ]
    },
    {
      "cell_type": "code",
      "source": [
        "names=[\"john\",\"peter\",\"vicky\"]\n",
        "joined=\"_\".join(names)\n",
        "print(joined)"
      ],
      "metadata": {
        "colab": {
          "base_uri": "https://localhost:8080/"
        },
        "id": "eWzhWPrHGMyI",
        "outputId": "08c8faf2-8d5c-4312-cea3-95d47455774b"
      },
      "execution_count": null,
      "outputs": [
        {
          "output_type": "stream",
          "name": "stdout",
          "text": [
            "john_peter_vicky\n"
          ]
        }
      ]
    },
    {
      "cell_type": "code",
      "source": [],
      "metadata": {
        "id": "8N5usWbKJ-4Z"
      },
      "execution_count": null,
      "outputs": []
    },
    {
      "cell_type": "code",
      "source": [],
      "metadata": {
        "id": "xQJ-uneHKBsb"
      },
      "execution_count": null,
      "outputs": []
    },
    {
      "cell_type": "markdown",
      "source": [
        "#**Lists & Its Methods**\n",
        "*  lists are used to store multiple items in a single variable.\n",
        "*  It is a collection which is ordered, changeable and allow Dublicate menbers.\n",
        "*  Lists are Mutable.\n",
        "#**List Methods**\n",
        "*  append(), sort(), reverse(), remove(), pop(), insert(), index(), extend(), count(), copy(), clear()"
      ],
      "metadata": {
        "id": "MmzPPicjKCVX"
      }
    },
    {
      "cell_type": "code",
      "source": [
        "fruits =[\"apple\",\"cherry\",\"orange\"]\n",
        "fruits.append(\"mango\")\n",
        "print(fruits)\n",
        "fruits.sort()\n",
        "print(fruits)\n",
        "fruits.reverse()\n",
        "print(fruits)\n",
        "fruits.remove(\"apple\")\n",
        "print(fruits)\n",
        "fruits.pop(1)\n",
        "print(fruits)\n",
        "fruits.insert(1,\"watermelon\")\n",
        "print(fruits)\n",
        "fruits.index(\"orange\")"
      ],
      "metadata": {
        "colab": {
          "base_uri": "https://localhost:8080/"
        },
        "id": "xGNZ6OzUFg_-",
        "outputId": "c3952a02-0b8e-4d73-a8b3-6ae7adab62d2"
      },
      "execution_count": null,
      "outputs": [
        {
          "output_type": "stream",
          "name": "stdout",
          "text": [
            "['apple', 'cherry', 'orange', 'mango']\n",
            "['apple', 'cherry', 'mango', 'orange']\n",
            "['orange', 'mango', 'cherry', 'apple']\n",
            "['orange', 'mango', 'cherry']\n",
            "['orange', 'cherry']\n",
            "['orange', 'watermelon', 'cherry']\n"
          ]
        },
        {
          "output_type": "execute_result",
          "data": {
            "text/plain": [
              "0"
            ]
          },
          "metadata": {},
          "execution_count": 12
        }
      ]
    },
    {
      "cell_type": "code",
      "source": [
        "others =[\"pineapple\",\"strawberry\",\"guava\",\"cherry\",\"pineapple\"]\n",
        "fruits.extend(others)\n",
        "print(fruits)\n",
        "type(fruits)\n"
      ],
      "metadata": {
        "colab": {
          "base_uri": "https://localhost:8080/"
        },
        "id": "tkHTbKwYHJET",
        "outputId": "c5d2d870-b84c-46d9-8533-ace9a3dcb871"
      },
      "execution_count": null,
      "outputs": [
        {
          "output_type": "stream",
          "name": "stdout",
          "text": [
            "['orange', 'watermelon', 'cherry', 'pineapple', 'strawberry', 'guava', 'cherry', 'pineapple', 'pineapple', 'strawberry', 'guava', 'cherry', 'pineapple', 'pineapple', 'strawberry', 'guava', 'cherry', 'pineapple', 'pineapple', 'strawberry', 'guava', 'cherry', 'pineapple', 'pineapple', 'strawberry', 'guava', 'cherry', 'pineapple', 'pineapple', 'strawberry', 'guava', 'cherry', 'pineapple', 'pineapple', 'strawberry', 'guava', 'cherry', 'pineapple', 'pineapple', 'strawberry', 'guava', 'cherry', 'pineapple']\n"
          ]
        },
        {
          "output_type": "execute_result",
          "data": {
            "text/plain": [
              "list"
            ]
          },
          "metadata": {},
          "execution_count": 21
        }
      ]
    },
    {
      "cell_type": "code",
      "source": [
        "fruits.count(\"cherry\")"
      ],
      "metadata": {
        "colab": {
          "base_uri": "https://localhost:8080/"
        },
        "id": "1RbXKYptIS_9",
        "outputId": "4629f5a0-7afe-41f5-fd2a-705ec67da193"
      },
      "execution_count": null,
      "outputs": [
        {
          "output_type": "execute_result",
          "data": {
            "text/plain": [
              "9"
            ]
          },
          "metadata": {},
          "execution_count": 22
        }
      ]
    },
    {
      "cell_type": "code",
      "source": [
        "fruits.copy()\n"
      ],
      "metadata": {
        "colab": {
          "base_uri": "https://localhost:8080/"
        },
        "id": "MDfjzjdHIub8",
        "outputId": "489a1dab-36aa-4f1c-fd8c-754cf740a9f2"
      },
      "execution_count": null,
      "outputs": [
        {
          "output_type": "execute_result",
          "data": {
            "text/plain": [
              "['orange',\n",
              " 'watermelon',\n",
              " 'cherry',\n",
              " 'pineapple',\n",
              " 'strawberry',\n",
              " 'guava',\n",
              " 'cherry',\n",
              " 'pineapple',\n",
              " 'pineapple',\n",
              " 'strawberry',\n",
              " 'guava',\n",
              " 'cherry',\n",
              " 'pineapple',\n",
              " 'pineapple',\n",
              " 'strawberry',\n",
              " 'guava',\n",
              " 'cherry',\n",
              " 'pineapple',\n",
              " 'pineapple',\n",
              " 'strawberry',\n",
              " 'guava',\n",
              " 'cherry',\n",
              " 'pineapple',\n",
              " 'pineapple',\n",
              " 'strawberry',\n",
              " 'guava',\n",
              " 'cherry',\n",
              " 'pineapple',\n",
              " 'pineapple',\n",
              " 'strawberry',\n",
              " 'guava',\n",
              " 'cherry',\n",
              " 'pineapple',\n",
              " 'pineapple',\n",
              " 'strawberry',\n",
              " 'guava',\n",
              " 'cherry',\n",
              " 'pineapple',\n",
              " 'pineapple',\n",
              " 'strawberry',\n",
              " 'guava',\n",
              " 'cherry',\n",
              " 'pineapple']"
            ]
          },
          "metadata": {},
          "execution_count": 25
        }
      ]
    },
    {
      "cell_type": "code",
      "source": [
        "fruits.clear()\n",
        "fruits"
      ],
      "metadata": {
        "colab": {
          "base_uri": "https://localhost:8080/"
        },
        "id": "T4oEZwsOI-3i",
        "outputId": "cc0fad08-24c3-45b5-f022-1eafdbbc42c0"
      },
      "execution_count": null,
      "outputs": [
        {
          "output_type": "execute_result",
          "data": {
            "text/plain": [
              "[]"
            ]
          },
          "metadata": {},
          "execution_count": 28
        }
      ]
    },
    {
      "cell_type": "code",
      "source": [],
      "metadata": {
        "id": "2JPyQC6aJS55"
      },
      "execution_count": null,
      "outputs": []
    },
    {
      "cell_type": "code",
      "source": [],
      "metadata": {
        "id": "zjJ9C5hkJtKq"
      },
      "execution_count": null,
      "outputs": []
    },
    {
      "cell_type": "markdown",
      "source": [
        "#**Python Functions**\n",
        "*  A function is a  block of code which only runs when it called.\n",
        "* Advanced Function:- lambda, map, zip."
      ],
      "metadata": {
        "id": "AlCHtbJ5JtgO"
      }
    },
    {
      "cell_type": "code",
      "source": [
        "def intro():       #Function Defining\n",
        "  value = 5\n",
        "  return value**2\n",
        "  print(\"Hello I'm from a function\")"
      ],
      "metadata": {
        "id": "iEhe8hiCKJrr"
      },
      "execution_count": null,
      "outputs": []
    },
    {
      "cell_type": "code",
      "source": [
        "intro()      #Function calling"
      ],
      "metadata": {
        "colab": {
          "base_uri": "https://localhost:8080/"
        },
        "id": "vw2dJpjdKkO3",
        "outputId": "450f6e34-c748-4bf3-870a-eb15e72107f8"
      },
      "execution_count": null,
      "outputs": [
        {
          "output_type": "execute_result",
          "data": {
            "text/plain": [
              "25"
            ]
          },
          "metadata": {},
          "execution_count": 32
        }
      ]
    },
    {
      "cell_type": "code",
      "source": [
        "def my_ID(name):       #functin with argument\n",
        "  print(\"UM001_\" + name)"
      ],
      "metadata": {
        "id": "fq1gZJdnKz21"
      },
      "execution_count": null,
      "outputs": []
    },
    {
      "cell_type": "code",
      "source": [
        "my_ID(\"Sai\")"
      ],
      "metadata": {
        "colab": {
          "base_uri": "https://localhost:8080/"
        },
        "id": "IHxq5y65LT23",
        "outputId": "9fbfe9be-3215-41e0-db9a-c379045d6ca6"
      },
      "execution_count": null,
      "outputs": [
        {
          "output_type": "stream",
          "name": "stdout",
          "text": [
            "UM001_Sai\n"
          ]
        }
      ]
    },
    {
      "cell_type": "code",
      "source": [
        "#lambda functions used to do function in single line\n",
        "add = lambda a,b,c: print(a+b+c)"
      ],
      "metadata": {
        "id": "B03Dp4acLZI9"
      },
      "execution_count": null,
      "outputs": []
    },
    {
      "cell_type": "code",
      "source": [
        "add(4,5,6)"
      ],
      "metadata": {
        "colab": {
          "base_uri": "https://localhost:8080/"
        },
        "id": "iiYO8vUmLu1N",
        "outputId": "5f654027-2692-4cef-e339-b547f820ae0f"
      },
      "execution_count": null,
      "outputs": [
        {
          "output_type": "stream",
          "name": "stdout",
          "text": [
            "15\n"
          ]
        }
      ]
    },
    {
      "cell_type": "code",
      "source": [
        "#map Function\n",
        "nums =[1,2,3,4,5,6]\n",
        "def sq(n):\n",
        "  return n*n\n",
        "sq(2)"
      ],
      "metadata": {
        "colab": {
          "base_uri": "https://localhost:8080/"
        },
        "id": "7P7kh8aQL8lU",
        "outputId": "59ff4447-3a4d-4733-c01f-e192e2e0d429"
      },
      "execution_count": null,
      "outputs": [
        {
          "output_type": "execute_result",
          "data": {
            "text/plain": [
              "4"
            ]
          },
          "metadata": {},
          "execution_count": 46
        }
      ]
    },
    {
      "cell_type": "code",
      "source": [
        "#But what if we need Output of Whole list or collection\n",
        "square = map(sq, nums)\n",
        "print(list(square))"
      ],
      "metadata": {
        "colab": {
          "base_uri": "https://localhost:8080/"
        },
        "id": "bAKNTc5rMAUf",
        "outputId": "75d733f0-e0c1-4ca7-c58a-e33309e01d47"
      },
      "execution_count": null,
      "outputs": [
        {
          "output_type": "stream",
          "name": "stdout",
          "text": [
            "[1, 4, 9, 16, 25, 36]\n"
          ]
        }
      ]
    },
    {
      "cell_type": "code",
      "source": [
        "#Zip Function\n",
        "name = [\"Shant\",\"Parveen\",\"Akash\",\"Lakshay\"]\n",
        "Id = [420,69,96,34]\n",
        "mapped =zip(name , Id)\n",
        "print(list(mapped))"
      ],
      "metadata": {
        "colab": {
          "base_uri": "https://localhost:8080/"
        },
        "id": "QhfaTd2PNg6x",
        "outputId": "175461c2-78ad-4fe7-d901-faf2cc41e121"
      },
      "execution_count": null,
      "outputs": [
        {
          "output_type": "stream",
          "name": "stdout",
          "text": [
            "[('Shant', 420), ('Parveen', 69), ('Akash', 96), ('Lakshay', 34)]\n"
          ]
        }
      ]
    },
    {
      "cell_type": "code",
      "source": [
        "type(mapped)"
      ],
      "metadata": {
        "colab": {
          "base_uri": "https://localhost:8080/"
        },
        "id": "yiGqEdu_OTi8",
        "outputId": "dc05e05f-a4fd-4b87-a2fb-6470ac56b3cf"
      },
      "execution_count": null,
      "outputs": [
        {
          "output_type": "execute_result",
          "data": {
            "text/plain": [
              "zip"
            ]
          },
          "metadata": {},
          "execution_count": 49
        }
      ]
    },
    {
      "cell_type": "code",
      "source": [],
      "metadata": {
        "id": "zLZW_BGsOXiZ"
      },
      "execution_count": null,
      "outputs": []
    },
    {
      "cell_type": "markdown",
      "source": [
        "#**DataStructures**\n",
        "*  Tuple()\n",
        "*  Dictionary{}\n",
        "*  Set{}"
      ],
      "metadata": {
        "id": "dIzTbEKxOl2Y"
      }
    },
    {
      "cell_type": "markdown",
      "source": [
        "#**Dictionary**\n",
        "*  Dictionaries are used to store data values in key:value pairs.\n",
        "*  A dictionary is a collection which is ordered*, changeable and do not allow dublicates.\n",
        "*  It can be modified(mutable)."
      ],
      "metadata": {
        "id": "jiz7-JuynnJ7"
      }
    },
    {
      "cell_type": "code",
      "source": [
        "car= {\"brand\":\"Ford\", \"model\":\"Ecosports\", \"year\":1964}\n",
        "car"
      ],
      "metadata": {
        "id": "_PYEnBS6VNlM",
        "colab": {
          "base_uri": "https://localhost:8080/"
        },
        "outputId": "d8d281f8-d196-4308-f992-52697b86d162"
      },
      "execution_count": null,
      "outputs": [
        {
          "output_type": "execute_result",
          "data": {
            "text/plain": [
              "{'brand': 'Ford', 'model': 'Ecosports', 'year': 1964}"
            ]
          },
          "metadata": {},
          "execution_count": 1
        }
      ]
    },
    {
      "cell_type": "code",
      "source": [
        "car.get(\"year\")"
      ],
      "metadata": {
        "colab": {
          "base_uri": "https://localhost:8080/"
        },
        "id": "3iVSJZRkonZQ",
        "outputId": "46d5a987-b0b5-43d3-b553-5b17395b8f41"
      },
      "execution_count": null,
      "outputs": [
        {
          "output_type": "execute_result",
          "data": {
            "text/plain": [
              "1964"
            ]
          },
          "metadata": {},
          "execution_count": 2
        }
      ]
    },
    {
      "cell_type": "code",
      "source": [
        "car.items()"
      ],
      "metadata": {
        "colab": {
          "base_uri": "https://localhost:8080/"
        },
        "id": "aLrYlQ7tos_C",
        "outputId": "58ec401c-cce5-4344-bcc4-9fbfee21dca1"
      },
      "execution_count": null,
      "outputs": [
        {
          "output_type": "execute_result",
          "data": {
            "text/plain": [
              "dict_items([('brand', 'Ford'), ('model', 'Ecosports'), ('year', 1964)])"
            ]
          },
          "metadata": {},
          "execution_count": 10
        }
      ]
    },
    {
      "cell_type": "code",
      "source": [
        "print(car.keys())\n",
        "car.values()"
      ],
      "metadata": {
        "colab": {
          "base_uri": "https://localhost:8080/"
        },
        "id": "Ez8Jvqp6ov0y",
        "outputId": "887febad-922b-427f-facf-93bfe136d88c"
      },
      "execution_count": null,
      "outputs": [
        {
          "output_type": "stream",
          "name": "stdout",
          "text": [
            "dict_keys(['brand', 'model', 'year'])\n"
          ]
        },
        {
          "output_type": "execute_result",
          "data": {
            "text/plain": [
              "dict_values(['Ford', 'Ecosports', 1964])"
            ]
          },
          "metadata": {},
          "execution_count": 11
        }
      ]
    },
    {
      "cell_type": "code",
      "source": [
        "#pop method\n",
        "car.pop(\"year\")\n",
        "print(car)"
      ],
      "metadata": {
        "colab": {
          "base_uri": "https://localhost:8080/"
        },
        "id": "ZisxuleTo2N-",
        "outputId": "1ec81cc7-0652-42f6-f765-dc8ddfa34f36"
      },
      "execution_count": null,
      "outputs": [
        {
          "output_type": "stream",
          "name": "stdout",
          "text": [
            "{'brand': 'Ford', 'model': 'Ecosports'}\n"
          ]
        }
      ]
    },
    {
      "cell_type": "code",
      "source": [
        "#pop item method\n",
        "car.popitem()    #pop last key:value pair\n",
        "print(car)"
      ],
      "metadata": {
        "colab": {
          "base_uri": "https://localhost:8080/"
        },
        "id": "HCx5189SphVW",
        "outputId": "7ee29127-c97f-47c5-efff-a4e56f9864ff"
      },
      "execution_count": null,
      "outputs": [
        {
          "output_type": "stream",
          "name": "stdout",
          "text": [
            "{'brand': 'Ford'}\n"
          ]
        }
      ]
    },
    {
      "cell_type": "code",
      "source": [
        "#update method\n",
        "car.update({\"color\":\"Black\"})\n",
        "print(car)"
      ],
      "metadata": {
        "colab": {
          "base_uri": "https://localhost:8080/"
        },
        "id": "jfnqbYtmpzcS",
        "outputId": "b6bf196b-58e1-4749-cdcc-39d45546dbb6"
      },
      "execution_count": null,
      "outputs": [
        {
          "output_type": "stream",
          "name": "stdout",
          "text": [
            "{'brand': 'Ford', 'color': 'Black'}\n"
          ]
        }
      ]
    },
    {
      "cell_type": "code",
      "source": [
        "#clear method\n",
        "car.clear()\n",
        "print(car)"
      ],
      "metadata": {
        "colab": {
          "base_uri": "https://localhost:8080/"
        },
        "id": "dKCTyhrAq5pS",
        "outputId": "08b6a223-734c-4932-9aa2-2dc71c37eb79"
      },
      "execution_count": null,
      "outputs": [
        {
          "output_type": "stream",
          "name": "stdout",
          "text": [
            "{}\n"
          ]
        }
      ]
    },
    {
      "cell_type": "code",
      "source": [],
      "metadata": {
        "id": "ck3VJlzZrMGI"
      },
      "execution_count": null,
      "outputs": []
    },
    {
      "cell_type": "markdown",
      "source": [
        "#**Tuple**\n",
        "*  They are used to store multiple items in a single variable.\n",
        "*  A tuple is a collection which is ordered and unchangeable. It is written with round brakets.\n",
        "*  Immutable* used in passwords, casestudies, cybersecurite etc."
      ],
      "metadata": {
        "id": "mzORXuu6rshL"
      }
    },
    {
      "cell_type": "code",
      "source": [
        "fruits=(\"apple\",\"mango\",\"banana\")     #Standard Method\n",
        "print(fruits)"
      ],
      "metadata": {
        "colab": {
          "base_uri": "https://localhost:8080/"
        },
        "id": "uUQBP7JHsiUZ",
        "outputId": "acbbeaa7-2452-4b52-f692-a71b97267397"
      },
      "execution_count": null,
      "outputs": [
        {
          "output_type": "stream",
          "name": "stdout",
          "text": [
            "('apple', 'mango', 'banana')\n"
          ]
        }
      ]
    },
    {
      "cell_type": "code",
      "source": [
        "ints = tuple([1,2,3,4,5,6,7,8,9])      #Function method"
      ],
      "metadata": {
        "id": "NqSRjE4ftAdU"
      },
      "execution_count": null,
      "outputs": []
    },
    {
      "cell_type": "code",
      "source": [
        "ints"
      ],
      "metadata": {
        "colab": {
          "base_uri": "https://localhost:8080/"
        },
        "id": "6_JTIpchtMme",
        "outputId": "0192bb2a-b0fd-4a23-c3ee-bdf42e7fc589"
      },
      "execution_count": null,
      "outputs": [
        {
          "output_type": "execute_result",
          "data": {
            "text/plain": [
              "(1, 2, 3, 4, 5, 6, 7, 8, 9)"
            ]
          },
          "metadata": {},
          "execution_count": 18
        }
      ]
    },
    {
      "cell_type": "code",
      "source": [
        "fruits=(\"apple\",\"banana\",\"cherry\",\"banana\")       # Allows dublicates\n",
        "print(fruits)"
      ],
      "metadata": {
        "colab": {
          "base_uri": "https://localhost:8080/"
        },
        "id": "BbmAMvF7tNSQ",
        "outputId": "c4aaf546-0d71-497a-bebe-79e122ec1a45"
      },
      "execution_count": null,
      "outputs": [
        {
          "output_type": "stream",
          "name": "stdout",
          "text": [
            "('apple', 'banana', 'cherry', 'banana')\n"
          ]
        }
      ]
    },
    {
      "cell_type": "code",
      "source": [
        "# count method\n",
        "nums=(1,2,3,4,5,6,7,8,9,2,3,5,7,8)\n",
        "nums.count(8)"
      ],
      "metadata": {
        "colab": {
          "base_uri": "https://localhost:8080/"
        },
        "id": "kCLp8D2WtmT-",
        "outputId": "174cc193-2ce9-40d4-9b27-76e3b49d36e9"
      },
      "execution_count": null,
      "outputs": [
        {
          "output_type": "execute_result",
          "data": {
            "text/plain": [
              "2"
            ]
          },
          "metadata": {},
          "execution_count": 21
        }
      ]
    },
    {
      "cell_type": "code",
      "source": [
        "nums.index(8)   #It will take first appearence."
      ],
      "metadata": {
        "colab": {
          "base_uri": "https://localhost:8080/"
        },
        "id": "PQvf0PQmuRm8",
        "outputId": "e2656849-6c36-448a-9422-a223dd71feb9"
      },
      "execution_count": null,
      "outputs": [
        {
          "output_type": "execute_result",
          "data": {
            "text/plain": [
              "7"
            ]
          },
          "metadata": {},
          "execution_count": 23
        }
      ]
    },
    {
      "cell_type": "code",
      "source": [
        "#min and max method\n",
        "nums =(-1,2,3,5,6,7,100)\n",
        "min(nums)"
      ],
      "metadata": {
        "colab": {
          "base_uri": "https://localhost:8080/"
        },
        "id": "OvBif0m_uXXk",
        "outputId": "06dcfaef-ca96-4797-b44d-362b96bcc42f"
      },
      "execution_count": null,
      "outputs": [
        {
          "output_type": "execute_result",
          "data": {
            "text/plain": [
              "-1"
            ]
          },
          "metadata": {},
          "execution_count": 28
        }
      ]
    },
    {
      "cell_type": "code",
      "source": [
        "max(nums)"
      ],
      "metadata": {
        "colab": {
          "base_uri": "https://localhost:8080/"
        },
        "id": "Lymp1fHHu0FZ",
        "outputId": "1965e248-a13e-4051-805f-af65f4cc1df6"
      },
      "execution_count": null,
      "outputs": [
        {
          "output_type": "execute_result",
          "data": {
            "text/plain": [
              "100"
            ]
          },
          "metadata": {},
          "execution_count": 29
        }
      ]
    },
    {
      "cell_type": "code",
      "source": [],
      "metadata": {
        "id": "zuCVAC3Cu6-n"
      },
      "execution_count": null,
      "outputs": []
    }
  ]
}