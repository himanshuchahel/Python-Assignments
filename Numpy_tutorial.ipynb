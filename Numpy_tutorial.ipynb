{
  "nbformat": 4,
  "nbformat_minor": 0,
  "metadata": {
    "colab": {
      "provenance": []
    },
    "kernelspec": {
      "name": "python3",
      "display_name": "Python 3"
    },
    "language_info": {
      "name": "python"
    }
  },
  "cells": [
    {
      "cell_type": "markdown",
      "source": [
        "#**Numpy**"
      ],
      "metadata": {
        "id": "GreGvVgUUCzt"
      }
    },
    {
      "cell_type": "code",
      "source": [
        "import numpy as np"
      ],
      "metadata": {
        "id": "dV8Jg8BSUIPW"
      },
      "execution_count": null,
      "outputs": []
    },
    {
      "cell_type": "markdown",
      "source": [
        "#**View vs copy**\n",
        "*  Copy is a new array, and the View is just a view of the orignal array.\n",
        "*  Any changes made to a copy will not affect orignal array.\n",
        "*  Any changes to the view will affect the orignal array."
      ],
      "metadata": {
        "id": "vG5zTaYrUWcG"
      }
    },
    {
      "cell_type": "code",
      "source": [
        "arr = np.array([1,2,3,4,5])\n",
        "# copy method\n",
        "copy = arr.copy()\n",
        "copy[0] = 42\n",
        "print(arr)\n",
        "print(copy)"
      ],
      "metadata": {
        "colab": {
          "base_uri": "https://localhost:8080/"
        },
        "id": "WwNu-yN5VDwE",
        "outputId": "f7787973-44ef-4790-e39e-30f3748fd359"
      },
      "execution_count": null,
      "outputs": [
        {
          "output_type": "stream",
          "name": "stdout",
          "text": [
            "[1 2 3 4 5]\n",
            "[42  2  3  4  5]\n"
          ]
        }
      ]
    },
    {
      "cell_type": "code",
      "source": [
        "#view method\n",
        "view = arr.view()\n",
        "view[0] = 42\n",
        "print (arr)\n",
        "print(view)"
      ],
      "metadata": {
        "colab": {
          "base_uri": "https://localhost:8080/"
        },
        "id": "PhrwZIsiVaR2",
        "outputId": "cdfbd684-7a5d-4a8f-d32b-9f9736afb3f6"
      },
      "execution_count": null,
      "outputs": [
        {
          "output_type": "stream",
          "name": "stdout",
          "text": [
            "[42  2  3  4  5]\n",
            "[42  2  3  4  5]\n"
          ]
        }
      ]
    },
    {
      "cell_type": "code",
      "source": [],
      "metadata": {
        "id": "cYx-_XFKVxZB"
      },
      "execution_count": null,
      "outputs": []
    },
    {
      "cell_type": "markdown",
      "source": [
        "#**Append, Insert and Delete operations**"
      ],
      "metadata": {
        "id": "a0KgvIj7V0tC"
      }
    },
    {
      "cell_type": "code",
      "source": [
        "#append operation\n",
        "a = np.array([[1,2,3],\n",
        "              [4,5,6]])\n",
        "print(a.shape)\n",
        "print(\"2D Array-->\",a)\n",
        "np.append(a, [7,8,9])    #axis = 0 i.e row and axis = 1 i.e column\n",
        "\n"
      ],
      "metadata": {
        "colab": {
          "base_uri": "https://localhost:8080/"
        },
        "id": "ziruEJaQV-d6",
        "outputId": "041ce58f-389a-4179-b666-2cf5cdd2df01"
      },
      "execution_count": null,
      "outputs": [
        {
          "output_type": "stream",
          "name": "stdout",
          "text": [
            "(2, 3)\n",
            "2D Array--> [[1 2 3]\n",
            " [4 5 6]]\n"
          ]
        },
        {
          "output_type": "execute_result",
          "data": {
            "text/plain": [
              "array([1, 2, 3, 4, 5, 6, 7, 8, 9])"
            ]
          },
          "metadata": {},
          "execution_count": 37
        }
      ]
    },
    {
      "cell_type": "code",
      "source": [
        "#Default it will add one more row to it.\n",
        "np.append(a, [[7,8,9]],axis=0) # for Row"
      ],
      "metadata": {
        "colab": {
          "base_uri": "https://localhost:8080/"
        },
        "id": "7ktcGLk0bVB5",
        "outputId": "8ad882fb-fa5f-4bf3-a89d-9071f444b4bb"
      },
      "execution_count": null,
      "outputs": [
        {
          "output_type": "execute_result",
          "data": {
            "text/plain": [
              "array([[1, 2, 3],\n",
              "       [4, 5, 6],\n",
              "       [7, 8, 9]])"
            ]
          },
          "metadata": {},
          "execution_count": 38
        }
      ]
    },
    {
      "cell_type": "code",
      "source": [
        "np.append(a,[[5],[8]],axis=1)  # for column"
      ],
      "metadata": {
        "colab": {
          "base_uri": "https://localhost:8080/"
        },
        "id": "X-PGebt2bVc2",
        "outputId": "4beba37f-efa2-4adb-f1b4-e5573e0485dd"
      },
      "execution_count": null,
      "outputs": [
        {
          "output_type": "execute_result",
          "data": {
            "text/plain": [
              "array([[1, 2, 3, 5],\n",
              "       [4, 5, 6, 8]])"
            ]
          },
          "metadata": {},
          "execution_count": 39
        }
      ]
    },
    {
      "cell_type": "code",
      "source": [
        "# insert operation\n",
        "a = np.array([[1,2],\n",
        "              [3,4],                                      # 0 1 2\n",
        "              [5,6]])                                     # ^ ^ ^\n",
        "# insert method                                           # | | |\n",
        "np.insert(a,3,[11,12])   #default in row at which position (1,2,3) 3rd position\n",
        "        # (which array, position , elements added)"
      ],
      "metadata": {
        "colab": {
          "base_uri": "https://localhost:8080/"
        },
        "id": "u2Xgn6QcWSpo",
        "outputId": "42a52a43-2b55-4a28-90fb-95cdda97eb47"
      },
      "execution_count": null,
      "outputs": [
        {
          "output_type": "execute_result",
          "data": {
            "text/plain": [
              "array([ 1,  2,  3, 11, 12,  4,  5,  6])"
            ]
          },
          "metadata": {},
          "execution_count": 33
        }
      ]
    },
    {
      "cell_type": "code",
      "source": [
        "np.insert(a,1,[11,12],axis=0)"
      ],
      "metadata": {
        "colab": {
          "base_uri": "https://localhost:8080/"
        },
        "id": "6p4B1ejQZexh",
        "outputId": "1418d288-923a-4e47-96a3-83717a698699"
      },
      "execution_count": null,
      "outputs": [
        {
          "output_type": "execute_result",
          "data": {
            "text/plain": [
              "array([[ 1,  2],\n",
              "       [11, 12],\n",
              "       [ 3,  4],\n",
              "       [ 5,  6]])"
            ]
          },
          "metadata": {},
          "execution_count": 35
        }
      ]
    },
    {
      "cell_type": "code",
      "source": [
        "np.insert(a,1,[11,12,13],axis=1)"
      ],
      "metadata": {
        "colab": {
          "base_uri": "https://localhost:8080/"
        },
        "id": "GK6A1Pb9a57H",
        "outputId": "a8a1c1d6-c785-40f9-aade-9a5b483f2920"
      },
      "execution_count": null,
      "outputs": [
        {
          "output_type": "execute_result",
          "data": {
            "text/plain": [
              "array([[ 1, 11,  2],\n",
              "       [ 3, 12,  4],\n",
              "       [ 5, 13,  6]])"
            ]
          },
          "metadata": {},
          "execution_count": 36
        }
      ]
    },
    {
      "cell_type": "code",
      "source": [
        "#Delete operation\n",
        "a = np.array([[1,2,3,12],\n",
        "              [9,5,6,11],\n",
        "              [8,4,10,7]])\n",
        "#Delete Method\n",
        "np.delete(a,4)"
      ],
      "metadata": {
        "colab": {
          "base_uri": "https://localhost:8080/"
        },
        "id": "EAxIAbDQbIC-",
        "outputId": "d1a43a4a-8a07-495e-c841-4dd5709e7c1d"
      },
      "execution_count": null,
      "outputs": [
        {
          "output_type": "execute_result",
          "data": {
            "text/plain": [
              "array([ 1,  2,  3, 12,  5,  6, 11,  8,  4, 10,  7])"
            ]
          },
          "metadata": {},
          "execution_count": 40
        }
      ]
    },
    {
      "cell_type": "code",
      "source": [
        "np.delete(a,1,axis=1)"
      ],
      "metadata": {
        "colab": {
          "base_uri": "https://localhost:8080/"
        },
        "id": "tk0XMI0ib8uU",
        "outputId": "fc4bbc14-e753-4092-d65a-0404aa9b1121"
      },
      "execution_count": null,
      "outputs": [
        {
          "output_type": "execute_result",
          "data": {
            "text/plain": [
              "array([[ 1,  3, 12],\n",
              "       [ 9,  6, 11],\n",
              "       [ 8, 10,  7]])"
            ]
          },
          "metadata": {},
          "execution_count": 41
        }
      ]
    },
    {
      "cell_type": "code",
      "source": [
        "np.delete(a,1,axis=0)"
      ],
      "metadata": {
        "colab": {
          "base_uri": "https://localhost:8080/"
        },
        "id": "wm7CkWNXcIB4",
        "outputId": "dc3c40bc-e1ad-47d0-eeca-90188c89fef9"
      },
      "execution_count": null,
      "outputs": [
        {
          "output_type": "execute_result",
          "data": {
            "text/plain": [
              "array([[ 1,  2,  3, 12],\n",
              "       [ 8,  4, 10,  7]])"
            ]
          },
          "metadata": {},
          "execution_count": 42
        }
      ]
    },
    {
      "cell_type": "code",
      "source": [],
      "metadata": {
        "id": "pSE8bGxncOPR"
      },
      "execution_count": null,
      "outputs": []
    },
    {
      "cell_type": "markdown",
      "source": [
        "#**Numpy Dimentional arrays**\n",
        "*  One Dimentional\n",
        "*  Two Dimentional\n",
        "*  3D Array"
      ],
      "metadata": {
        "id": "EwNIICTSm-QA"
      }
    },
    {
      "cell_type": "code",
      "source": [
        "import numpy as np\n",
        "one = np.array([1,2,3,4,5])\n",
        "two = np.array([[1,2,3],\n",
        "     [4,5,6]])\n",
        "three = np.array([[[1,2,3],[4,5,6]],\n",
        "             [[7,8,9],[10,11,12]]])\n",
        "print(np.ndim(one))\n",
        "print(np.ndim(two))\n",
        "print(np.ndim(three))"
      ],
      "metadata": {
        "colab": {
          "base_uri": "https://localhost:8080/"
        },
        "id": "Dnt2zVXnnSTT",
        "outputId": "4d3d51ec-1d41-4861-b274-11dcfdc28353"
      },
      "execution_count": null,
      "outputs": [
        {
          "output_type": "stream",
          "name": "stdout",
          "text": [
            "1\n",
            "2\n",
            "3\n"
          ]
        }
      ]
    },
    {
      "cell_type": "code",
      "source": [
        "three"
      ],
      "metadata": {
        "colab": {
          "base_uri": "https://localhost:8080/"
        },
        "id": "Ow_yJ62Uogb4",
        "outputId": "3a63940c-19b4-4ee1-fef7-dd561ce05893"
      },
      "execution_count": null,
      "outputs": [
        {
          "output_type": "execute_result",
          "data": {
            "text/plain": [
              "array([[[ 1,  2,  3],\n",
              "        [ 4,  5,  6]],\n",
              "\n",
              "       [[ 7,  8,  9],\n",
              "        [10, 11, 12]]])"
            ]
          },
          "metadata": {},
          "execution_count": 5
        }
      ]
    },
    {
      "cell_type": "code",
      "source": [
        "three.shape"
      ],
      "metadata": {
        "colab": {
          "base_uri": "https://localhost:8080/"
        },
        "id": "K4fAvMBYpZ33",
        "outputId": "4fe3b292-dd35-4842-c1e1-9a1c458314a6"
      },
      "execution_count": null,
      "outputs": [
        {
          "output_type": "execute_result",
          "data": {
            "text/plain": [
              "(2, 2, 3)"
            ]
          },
          "metadata": {},
          "execution_count": 7
        }
      ]
    },
    {
      "cell_type": "code",
      "source": [],
      "metadata": {
        "id": "Ov38cayGpeQ6"
      },
      "execution_count": null,
      "outputs": []
    },
    {
      "cell_type": "markdown",
      "source": [
        "#**Numpy Arrays VS Lists**\n",
        "*  In array we only have single datatype.(Disadvantage)\n",
        "*  In list we cannot perform mathematical operations in one line"
      ],
      "metadata": {
        "id": "0QaOos_tqaO7"
      }
    },
    {
      "cell_type": "code",
      "source": [
        "list1=[1,2,3.15,\"Apple\"]\n",
        "list1"
      ],
      "metadata": {
        "colab": {
          "base_uri": "https://localhost:8080/"
        },
        "id": "hcZ6a6sRqrmy",
        "outputId": "3f7ad32f-8366-4ce7-99c5-524a4a699ecc"
      },
      "execution_count": null,
      "outputs": [
        {
          "output_type": "execute_result",
          "data": {
            "text/plain": [
              "[1, 2, 3.15, 'Apple']"
            ]
          },
          "metadata": {},
          "execution_count": 9
        }
      ]
    },
    {
      "cell_type": "code",
      "source": [
        "arr1=np.array([1,2,3.14,\"apple\"])    #type conversion\n",
        "arr1"
      ],
      "metadata": {
        "colab": {
          "base_uri": "https://localhost:8080/"
        },
        "id": "lVmjTubBruJY",
        "outputId": "3fc17dc3-c880-43be-e723-408e77cf26db"
      },
      "execution_count": null,
      "outputs": [
        {
          "output_type": "execute_result",
          "data": {
            "text/plain": [
              "array(['1', '2', '3.14', 'apple'], dtype='<U32')"
            ]
          },
          "metadata": {},
          "execution_count": 10
        }
      ]
    },
    {
      "cell_type": "code",
      "source": [
        "l=[1,2,3,4]\n",
        "l/5"
      ],
      "metadata": {
        "colab": {
          "base_uri": "https://localhost:8080/",
          "height": 159
        },
        "id": "BKj9kejyruoN",
        "outputId": "0f18a4fb-30ea-4ffc-9e68-a5a39ce42045"
      },
      "execution_count": null,
      "outputs": [
        {
          "output_type": "error",
          "ename": "TypeError",
          "evalue": "unsupported operand type(s) for /: 'list' and 'int'",
          "traceback": [
            "\u001b[0;31m---------------------------------------------------------------------------\u001b[0m",
            "\u001b[0;31mTypeError\u001b[0m                                 Traceback (most recent call last)",
            "\u001b[0;32m<ipython-input-14-619a24fe7e6f>\u001b[0m in \u001b[0;36m<cell line: 2>\u001b[0;34m()\u001b[0m\n\u001b[1;32m      1\u001b[0m \u001b[0ml\u001b[0m\u001b[0;34m=\u001b[0m\u001b[0;34m[\u001b[0m\u001b[0;36m1\u001b[0m\u001b[0;34m,\u001b[0m\u001b[0;36m2\u001b[0m\u001b[0;34m,\u001b[0m\u001b[0;36m3\u001b[0m\u001b[0;34m,\u001b[0m\u001b[0;36m4\u001b[0m\u001b[0;34m]\u001b[0m\u001b[0;34m\u001b[0m\u001b[0;34m\u001b[0m\u001b[0m\n\u001b[0;32m----> 2\u001b[0;31m \u001b[0ml\u001b[0m\u001b[0;34m/\u001b[0m\u001b[0;36m5\u001b[0m\u001b[0;34m\u001b[0m\u001b[0;34m\u001b[0m\u001b[0m\n\u001b[0m",
            "\u001b[0;31mTypeError\u001b[0m: unsupported operand type(s) for /: 'list' and 'int'"
          ]
        }
      ]
    },
    {
      "cell_type": "code",
      "source": [
        "arr=np.array([1,2,3.15])\n",
        "arr/5"
      ],
      "metadata": {
        "colab": {
          "base_uri": "https://localhost:8080/"
        },
        "id": "-fzah7kzru6B",
        "outputId": "16820818-9c90-4e0c-ab15-25b94078f59f"
      },
      "execution_count": null,
      "outputs": [
        {
          "output_type": "execute_result",
          "data": {
            "text/plain": [
              "array([0.2 , 0.4 , 0.63])"
            ]
          },
          "metadata": {},
          "execution_count": 15
        }
      ]
    },
    {
      "cell_type": "markdown",
      "source": [
        "#**More advantages of lists over array**\n",
        "*  Arrays are much faster than Lists.\n",
        "*  Array consumes less memory."
      ],
      "metadata": {
        "id": "tHcFZcDIpriE"
      }
    },
    {
      "cell_type": "code",
      "source": [],
      "metadata": {
        "id": "3TjijYkwsted"
      },
      "execution_count": null,
      "outputs": []
    },
    {
      "cell_type": "code",
      "source": [],
      "metadata": {
        "id": "t_8yLHEOstwF"
      },
      "execution_count": null,
      "outputs": []
    },
    {
      "cell_type": "markdown",
      "source": [
        "#**Slicing of arrays**\n",
        "*  slicing in python means taking elements from the given index to another given index.\n",
        "*  we pass slice instead of index like this. [start:end]\n",
        "*  we can also decide the step,like this. [start:endstep]"
      ],
      "metadata": {
        "id": "WDCFCaYPsuTt"
      }
    },
    {
      "cell_type": "code",
      "source": [
        "import numpy as np\n",
        "a1 =np.array([1,2,3,4,5,6,7])\n",
        "print(a1[1:5])  #slicing       Starting point included  but ending point is not included"
      ],
      "metadata": {
        "colab": {
          "base_uri": "https://localhost:8080/"
        },
        "id": "5oGmG9Bptv4n",
        "outputId": "941dcf8c-01fb-446e-b49c-39a20ae6c59f"
      },
      "execution_count": null,
      "outputs": [
        {
          "output_type": "stream",
          "name": "stdout",
          "text": [
            "[2 3 4 5]\n"
          ]
        }
      ]
    },
    {
      "cell_type": "code",
      "source": [
        "print(a1[1])  #indexing"
      ],
      "metadata": {
        "colab": {
          "base_uri": "https://localhost:8080/"
        },
        "id": "3gbb0vgnuMEz",
        "outputId": "7b312b8c-9d45-4d42-a185-442159a39901"
      },
      "execution_count": null,
      "outputs": [
        {
          "output_type": "stream",
          "name": "stdout",
          "text": [
            "2\n"
          ]
        }
      ]
    },
    {
      "cell_type": "code",
      "source": [
        "a1[:4]"
      ],
      "metadata": {
        "colab": {
          "base_uri": "https://localhost:8080/"
        },
        "id": "A7iGKFUbuP5h",
        "outputId": "d26a10ab-647b-460b-f038-5066346a8b3f"
      },
      "execution_count": null,
      "outputs": [
        {
          "output_type": "execute_result",
          "data": {
            "text/plain": [
              "array([1, 2, 3, 4])"
            ]
          },
          "metadata": {},
          "execution_count": 19
        }
      ]
    },
    {
      "cell_type": "code",
      "source": [
        "a2 =np.array([[1,2,3,4,5],[6,7,8,9,10]])"
      ],
      "metadata": {
        "id": "Q-ndAFWauf72"
      },
      "execution_count": null,
      "outputs": []
    },
    {
      "cell_type": "code",
      "source": [
        "print(a2)"
      ],
      "metadata": {
        "colab": {
          "base_uri": "https://localhost:8080/"
        },
        "id": "bhav2baivLtM",
        "outputId": "3d3359b3-c5fd-472f-a4e8-d18db3748406"
      },
      "execution_count": null,
      "outputs": [
        {
          "output_type": "stream",
          "name": "stdout",
          "text": [
            "[[ 1  2  3  4  5]\n",
            " [ 6  7  8  9 10]]\n"
          ]
        }
      ]
    },
    {
      "cell_type": "code",
      "source": [
        "a2[1, 1:4]    #Syntax -> [row,column(start:end)]"
      ],
      "metadata": {
        "colab": {
          "base_uri": "https://localhost:8080/"
        },
        "id": "pls5XATLvN7E",
        "outputId": "c18cbd5c-f714-4d32-b837-767fea0f633f"
      },
      "execution_count": null,
      "outputs": [
        {
          "output_type": "execute_result",
          "data": {
            "text/plain": [
              "array([7, 8, 9])"
            ]
          },
          "metadata": {},
          "execution_count": 24
        }
      ]
    },
    {
      "cell_type": "code",
      "source": [
        "a2[0:2, 2]"
      ],
      "metadata": {
        "colab": {
          "base_uri": "https://localhost:8080/"
        },
        "id": "iUnNN4R7vUO9",
        "outputId": "de32d749-5cd7-4771-99b5-a38e7bac472c"
      },
      "execution_count": null,
      "outputs": [
        {
          "output_type": "execute_result",
          "data": {
            "text/plain": [
              "array([3, 8])"
            ]
          },
          "metadata": {},
          "execution_count": 25
        }
      ]
    },
    {
      "cell_type": "code",
      "source": [
        "print(a2)\n",
        "a2[1: , :5]"
      ],
      "metadata": {
        "colab": {
          "base_uri": "https://localhost:8080/"
        },
        "id": "1XOzNIn-vujQ",
        "outputId": "34ee40ee-d8f4-40f9-f4c3-e51639b13959"
      },
      "execution_count": null,
      "outputs": [
        {
          "output_type": "stream",
          "name": "stdout",
          "text": [
            "[[ 1  2  3  4  5]\n",
            " [ 6  7  8  9 10]]\n"
          ]
        },
        {
          "output_type": "execute_result",
          "data": {
            "text/plain": [
              "array([[ 6,  7,  8,  9, 10]])"
            ]
          },
          "metadata": {},
          "execution_count": 29
        }
      ]
    },
    {
      "cell_type": "code",
      "source": [
        "#3D Arrays\n",
        "\n"
      ],
      "metadata": {
        "id": "LV6e1h8DvzoO"
      },
      "execution_count": null,
      "outputs": []
    },
    {
      "cell_type": "code",
      "source": [],
      "metadata": {
        "id": "O2YJvkoxf8WS"
      },
      "execution_count": null,
      "outputs": []
    },
    {
      "cell_type": "code",
      "source": [],
      "metadata": {
        "id": "gHRsWViif8iJ"
      },
      "execution_count": null,
      "outputs": []
    },
    {
      "cell_type": "code",
      "source": [],
      "metadata": {
        "id": "fNq94Rc-f8r7"
      },
      "execution_count": null,
      "outputs": []
    },
    {
      "cell_type": "code",
      "source": [],
      "metadata": {
        "id": "OsmhcGY_f8_K"
      },
      "execution_count": null,
      "outputs": []
    },
    {
      "cell_type": "markdown",
      "source": [
        "#**Reshaping array**\n",
        "*  tip-> try that the oldshape(row*col)== newshape(row*col)"
      ],
      "metadata": {
        "id": "0HgwEDUqf9Qc"
      }
    },
    {
      "cell_type": "code",
      "source": [
        "import numpy as np"
      ],
      "metadata": {
        "id": "of16XmZzgEAJ"
      },
      "execution_count": null,
      "outputs": []
    },
    {
      "cell_type": "code",
      "source": [
        "arr = np.array([1,2,3,4,5,6,7,8,9,10,11,12])  #1D array\n",
        "\n",
        "#1D to 2D\n",
        "newarr = arr.reshape(2,6)   #2*6=12"
      ],
      "metadata": {
        "id": "Vt8XSiZ8gc7C"
      },
      "execution_count": null,
      "outputs": []
    },
    {
      "cell_type": "code",
      "source": [
        "print(newarr)"
      ],
      "metadata": {
        "colab": {
          "base_uri": "https://localhost:8080/"
        },
        "id": "DxOVvl7qg0dh",
        "outputId": "c8a38631-4137-4acc-f4b5-d46b46ec01ef"
      },
      "execution_count": null,
      "outputs": [
        {
          "output_type": "stream",
          "name": "stdout",
          "text": [
            "[[ 1  2  3  4  5  6]\n",
            " [ 7  8  9 10 11 12]]\n"
          ]
        }
      ]
    },
    {
      "cell_type": "code",
      "source": [
        "#1D to 3D\n",
        "new_arr = arr.reshape(2,3,2)   #2*3*2=12"
      ],
      "metadata": {
        "id": "307-Nd_Bg4-k"
      },
      "execution_count": null,
      "outputs": []
    },
    {
      "cell_type": "code",
      "source": [
        "print(new_arr)"
      ],
      "metadata": {
        "colab": {
          "base_uri": "https://localhost:8080/"
        },
        "id": "DMN5jJXChKUP",
        "outputId": "86f8569f-48a0-41b6-d863-eb42deb360ce"
      },
      "execution_count": null,
      "outputs": [
        {
          "output_type": "stream",
          "name": "stdout",
          "text": [
            "[[[ 1  2]\n",
            "  [ 3  4]\n",
            "  [ 5  6]]\n",
            "\n",
            " [[ 7  8]\n",
            "  [ 9 10]\n",
            "  [11 12]]]\n"
          ]
        }
      ]
    },
    {
      "cell_type": "code",
      "source": [
        "print(np.ndim(new_arr))"
      ],
      "metadata": {
        "colab": {
          "base_uri": "https://localhost:8080/"
        },
        "id": "VSPbybi-hOlw",
        "outputId": "3536f874-13df-4d02-c96e-72f3c6fb662c"
      },
      "execution_count": null,
      "outputs": [
        {
          "output_type": "stream",
          "name": "stdout",
          "text": [
            "3\n"
          ]
        }
      ]
    },
    {
      "cell_type": "code",
      "source": [],
      "metadata": {
        "id": "FJYvWffuhfwk"
      },
      "execution_count": null,
      "outputs": []
    },
    {
      "cell_type": "markdown",
      "source": [
        "#**Numpy Array Indexing**\n",
        "*  Array indexing is the same as accessing an array element\n",
        "*  You can access an array element by referring to it's index number"
      ],
      "metadata": {
        "id": "NmcrDu0OiCE1"
      }
    },
    {
      "cell_type": "code",
      "source": [
        "arr = np.array([1,2,3,4,5,6])\n",
        "print(arr[3])"
      ],
      "metadata": {
        "colab": {
          "base_uri": "https://localhost:8080/"
        },
        "id": "AptT6Ppqix-q",
        "outputId": "e1beddd8-e648-4c0c-eb07-65be16a964fe"
      },
      "execution_count": null,
      "outputs": [
        {
          "output_type": "stream",
          "name": "stdout",
          "text": [
            "4\n"
          ]
        }
      ]
    },
    {
      "cell_type": "code",
      "source": [
        "#mathematical operations\n",
        "print(arr[1] + arr[2])"
      ],
      "metadata": {
        "colab": {
          "base_uri": "https://localhost:8080/"
        },
        "id": "Lx4wYNVhi5x4",
        "outputId": "699c71c4-827a-41ef-9374-4e75f054d1b8"
      },
      "execution_count": null,
      "outputs": [
        {
          "output_type": "stream",
          "name": "stdout",
          "text": [
            "5\n"
          ]
        }
      ]
    },
    {
      "cell_type": "code",
      "source": [
        "arr = np.array([[1,2,3,4,5],[6,7,8,9,10]])\n",
        "arr.shape"
      ],
      "metadata": {
        "colab": {
          "base_uri": "https://localhost:8080/"
        },
        "id": "cvxLSOt1jC-Z",
        "outputId": "df43b681-64f2-4abf-ad79-5edc0981e74e"
      },
      "execution_count": null,
      "outputs": [
        {
          "output_type": "execute_result",
          "data": {
            "text/plain": [
              "(2, 5)"
            ]
          },
          "metadata": {},
          "execution_count": 15
        }
      ]
    },
    {
      "cell_type": "code",
      "source": [
        "print(arr[1,3])"
      ],
      "metadata": {
        "colab": {
          "base_uri": "https://localhost:8080/"
        },
        "id": "fwEa5ZC3jXU7",
        "outputId": "f6970c53-7f39-4cdd-c2bb-7ab95d484bda"
      },
      "execution_count": null,
      "outputs": [
        {
          "output_type": "stream",
          "name": "stdout",
          "text": [
            "9\n"
          ]
        }
      ]
    },
    {
      "cell_type": "code",
      "source": [
        "print(arr[0,4])"
      ],
      "metadata": {
        "colab": {
          "base_uri": "https://localhost:8080/"
        },
        "id": "cWJDcLUAjcuO",
        "outputId": "5a2cc3f4-ec75-47a8-a23e-c237b90f53f1"
      },
      "execution_count": null,
      "outputs": [
        {
          "output_type": "stream",
          "name": "stdout",
          "text": [
            "5\n"
          ]
        }
      ]
    },
    {
      "cell_type": "code",
      "source": [
        "arr = np.array([[[1,2,3],[4,5,6]],[[7,8,9],[10,11,12]]])\n",
        "arr.shape"
      ],
      "metadata": {
        "colab": {
          "base_uri": "https://localhost:8080/"
        },
        "id": "whPLTWKNji4h",
        "outputId": "ade000a2-035c-4f0b-ed4d-5c467ccb2d64"
      },
      "execution_count": null,
      "outputs": [
        {
          "output_type": "execute_result",
          "data": {
            "text/plain": [
              "(2, 2, 3)"
            ]
          },
          "metadata": {},
          "execution_count": 19
        }
      ]
    },
    {
      "cell_type": "code",
      "source": [
        "print(arr[1,0,2])"
      ],
      "metadata": {
        "colab": {
          "base_uri": "https://localhost:8080/"
        },
        "id": "PJ6b8HGYj7ek",
        "outputId": "26748d05-00e3-4f7f-db18-2e4aa3df5d9d"
      },
      "execution_count": null,
      "outputs": [
        {
          "output_type": "stream",
          "name": "stdout",
          "text": [
            "9\n"
          ]
        }
      ]
    },
    {
      "cell_type": "code",
      "source": [],
      "metadata": {
        "id": "BsJxGSI6kBqG"
      },
      "execution_count": null,
      "outputs": []
    },
    {
      "cell_type": "markdown",
      "source": [
        "#**Numpy Additional Topics**\n",
        "#**Hstack vs Vstack**\n",
        "*  **Hstack is used to**join two arrays **Horizontally**\n",
        "*  **Vstack is used to**join two arrays **vertically**\n"
      ],
      "metadata": {
        "id": "2_G7hIRYkel5"
      }
    },
    {
      "cell_type": "code",
      "source": [
        "import numpy as np"
      ],
      "metadata": {
        "id": "_u_1Tb-hkkvm"
      },
      "execution_count": null,
      "outputs": []
    },
    {
      "cell_type": "code",
      "source": [
        "a=np.array([1,2,3])\n",
        "b=np.array([4,5,6])"
      ],
      "metadata": {
        "id": "sc8HWFjsgN6s"
      },
      "execution_count": null,
      "outputs": []
    },
    {
      "cell_type": "code",
      "source": [
        "print(a,b)\n",
        "print(np.ndim(a),np.ndim(b))"
      ],
      "metadata": {
        "colab": {
          "base_uri": "https://localhost:8080/"
        },
        "id": "LDXnP0xkgXA8",
        "outputId": "ed05349d-67a0-4e6a-f4f0-7719fcc1d32f"
      },
      "execution_count": null,
      "outputs": [
        {
          "output_type": "stream",
          "name": "stdout",
          "text": [
            "[1 2 3] [4 5 6]\n",
            "1 1\n"
          ]
        }
      ]
    },
    {
      "cell_type": "code",
      "source": [
        "#performing Hstack\n",
        "\n",
        "result=np.hstack((a,b))\n",
        "print(result)\n",
        "print(np.ndim(result))"
      ],
      "metadata": {
        "colab": {
          "base_uri": "https://localhost:8080/"
        },
        "id": "zRNGaDZGgZCg",
        "outputId": "ca4d206c-5cb9-4981-86ef-3645676d98b3"
      },
      "execution_count": null,
      "outputs": [
        {
          "output_type": "stream",
          "name": "stdout",
          "text": [
            "[1 2 3 4 5 6]\n",
            "1\n"
          ]
        }
      ]
    },
    {
      "cell_type": "code",
      "source": [
        "#performing Vstack\n",
        "\n",
        "result=np.vstack((a,b))\n",
        "print(result)\n",
        "print(np.ndim(result))"
      ],
      "metadata": {
        "colab": {
          "base_uri": "https://localhost:8080/"
        },
        "id": "jG76osqrgtM-",
        "outputId": "7422dd5e-868e-473e-ece3-7f2aad62d5ee"
      },
      "execution_count": null,
      "outputs": [
        {
          "output_type": "stream",
          "name": "stdout",
          "text": [
            "[[1 2 3]\n",
            " [4 5 6]]\n",
            "2\n"
          ]
        }
      ]
    },
    {
      "cell_type": "code",
      "source": [],
      "metadata": {
        "id": "HUI9hn-XhD2G"
      },
      "execution_count": null,
      "outputs": []
    },
    {
      "cell_type": "markdown",
      "source": [
        "#**Numpy concatenation**\n",
        "*  It is used to join the two or more arrays of the same shape along a specified axis\n",
        "*  Axis=0, Adding a new row\n",
        "*  Axis=1, Adding a new column"
      ],
      "metadata": {
        "id": "RiIPxs4Aha44"
      }
    },
    {
      "cell_type": "code",
      "source": [
        "arr1 = np.array([[1,2,3],[4,5,6]])\n",
        "arr2 = np.array([[5,6,9],[7,8,10]])   #dimentions and the shape should be same\n",
        "\n",
        "arr3 = np.array([[3],[9]])\n",
        "arr4 = np.array([[10],[25]])\n",
        "\n",
        "new = np.concatenate((arr1,arr2), axis=0)\n",
        "print(new)\n",
        "new = np.concatenate((arr3,arr4), axis=1)\n",
        "print(new)\n",
        "\n"
      ],
      "metadata": {
        "colab": {
          "base_uri": "https://localhost:8080/"
        },
        "id": "Rb7rV26piCpx",
        "outputId": "ed5ac97f-3252-4237-deb4-7dc0bf61b0ad"
      },
      "execution_count": null,
      "outputs": [
        {
          "output_type": "stream",
          "name": "stdout",
          "text": [
            "[[ 1  2  3]\n",
            " [ 4  5  6]\n",
            " [ 5  6  9]\n",
            " [ 7  8 10]]\n",
            "[[ 3 10]\n",
            " [ 9 25]]\n"
          ]
        }
      ]
    },
    {
      "cell_type": "code",
      "source": [],
      "metadata": {
        "id": "hAyV0TJli-8G"
      },
      "execution_count": null,
      "outputs": []
    }
  ]
}